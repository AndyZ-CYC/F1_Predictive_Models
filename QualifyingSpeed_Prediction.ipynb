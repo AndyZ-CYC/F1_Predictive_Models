{
 "cells": [
  {
   "cell_type": "code",
   "execution_count": 1,
   "metadata": {},
   "outputs": [],
   "source": [
    "import pandas as pd\n",
    "import numpy as np\n",
    "import SALibrary.SportsAnalytics as sa\n",
    "import SALibrary.SimpleRatingSystem as srs"
   ]
  },
  {
   "cell_type": "code",
   "execution_count": 2,
   "metadata": {},
   "outputs": [],
   "source": [
    "import warnings\n",
    "warnings.filterwarnings('ignore')"
   ]
  },
  {
   "cell_type": "code",
   "execution_count": 3,
   "metadata": {},
   "outputs": [
    {
     "data": {
      "text/html": [
       "<div>\n",
       "<style scoped>\n",
       "    .dataframe tbody tr th:only-of-type {\n",
       "        vertical-align: middle;\n",
       "    }\n",
       "\n",
       "    .dataframe tbody tr th {\n",
       "        vertical-align: top;\n",
       "    }\n",
       "\n",
       "    .dataframe thead th {\n",
       "        text-align: right;\n",
       "    }\n",
       "</style>\n",
       "<table border=\"1\" class=\"dataframe\">\n",
       "  <thead>\n",
       "    <tr style=\"text-align: right;\">\n",
       "      <th></th>\n",
       "      <th>RaceDate</th>\n",
       "      <th>Year</th>\n",
       "      <th>RaceName</th>\n",
       "      <th>FullName</th>\n",
       "      <th>DriverId</th>\n",
       "      <th>TeamName</th>\n",
       "      <th>TeamId</th>\n",
       "      <th>GridPosition</th>\n",
       "      <th>Position_Race</th>\n",
       "      <th>Podium_Finish</th>\n",
       "      <th>TotalLength</th>\n",
       "      <th>MaxQualSpeed</th>\n",
       "      <th>Time</th>\n",
       "      <th>Speed</th>\n",
       "      <th>Finished</th>\n",
       "    </tr>\n",
       "  </thead>\n",
       "  <tbody>\n",
       "    <tr>\n",
       "      <th>0</th>\n",
       "      <td>2018-11-25 13:10:00</td>\n",
       "      <td>2018</td>\n",
       "      <td>Abu Dhabi Grand Prix</td>\n",
       "      <td>Lewis Hamilton</td>\n",
       "      <td>hamilton</td>\n",
       "      <td>Mercedes</td>\n",
       "      <td>mercedes</td>\n",
       "      <td>1.0</td>\n",
       "      <td>1.0</td>\n",
       "      <td>1</td>\n",
       "      <td>290455</td>\n",
       "      <td>55.710277</td>\n",
       "      <td>5980.382</td>\n",
       "      <td>48.567968</td>\n",
       "      <td>1</td>\n",
       "    </tr>\n",
       "    <tr>\n",
       "      <th>1</th>\n",
       "      <td>2018-11-25 13:10:00</td>\n",
       "      <td>2018</td>\n",
       "      <td>Abu Dhabi Grand Prix</td>\n",
       "      <td>Sebastian Vettel</td>\n",
       "      <td>vettel</td>\n",
       "      <td>Ferrari</td>\n",
       "      <td>ferrari</td>\n",
       "      <td>3.0</td>\n",
       "      <td>2.0</td>\n",
       "      <td>1</td>\n",
       "      <td>290455</td>\n",
       "      <td>55.516426</td>\n",
       "      <td>5982.963</td>\n",
       "      <td>48.547016</td>\n",
       "      <td>1</td>\n",
       "    </tr>\n",
       "    <tr>\n",
       "      <th>2</th>\n",
       "      <td>2018-11-25 13:10:00</td>\n",
       "      <td>2018</td>\n",
       "      <td>Abu Dhabi Grand Prix</td>\n",
       "      <td>Max Verstappen</td>\n",
       "      <td>max_verstappen</td>\n",
       "      <td>Red Bull Racing</td>\n",
       "      <td>red_bull</td>\n",
       "      <td>6.0</td>\n",
       "      <td>3.0</td>\n",
       "      <td>1</td>\n",
       "      <td>290455</td>\n",
       "      <td>55.246943</td>\n",
       "      <td>5993.088</td>\n",
       "      <td>48.464998</td>\n",
       "      <td>1</td>\n",
       "    </tr>\n",
       "    <tr>\n",
       "      <th>3</th>\n",
       "      <td>2018-11-25 13:10:00</td>\n",
       "      <td>2018</td>\n",
       "      <td>Abu Dhabi Grand Prix</td>\n",
       "      <td>Daniel Ricciardo</td>\n",
       "      <td>ricciardo</td>\n",
       "      <td>Red Bull Racing</td>\n",
       "      <td>red_bull</td>\n",
       "      <td>5.0</td>\n",
       "      <td>4.0</td>\n",
       "      <td>0</td>\n",
       "      <td>290455</td>\n",
       "      <td>55.355814</td>\n",
       "      <td>5995.761</td>\n",
       "      <td>48.443392</td>\n",
       "      <td>1</td>\n",
       "    </tr>\n",
       "    <tr>\n",
       "      <th>4</th>\n",
       "      <td>2018-11-25 13:10:00</td>\n",
       "      <td>2018</td>\n",
       "      <td>Abu Dhabi Grand Prix</td>\n",
       "      <td>Valtteri Bottas</td>\n",
       "      <td>bottas</td>\n",
       "      <td>Mercedes</td>\n",
       "      <td>mercedes</td>\n",
       "      <td>2.0</td>\n",
       "      <td>5.0</td>\n",
       "      <td>0</td>\n",
       "      <td>290455</td>\n",
       "      <td>55.615232</td>\n",
       "      <td>6028.339</td>\n",
       "      <td>48.181597</td>\n",
       "      <td>1</td>\n",
       "    </tr>\n",
       "  </tbody>\n",
       "</table>\n",
       "</div>"
      ],
      "text/plain": [
       "              RaceDate  Year              RaceName          FullName  \\\n",
       "0  2018-11-25 13:10:00  2018  Abu Dhabi Grand Prix    Lewis Hamilton   \n",
       "1  2018-11-25 13:10:00  2018  Abu Dhabi Grand Prix  Sebastian Vettel   \n",
       "2  2018-11-25 13:10:00  2018  Abu Dhabi Grand Prix    Max Verstappen   \n",
       "3  2018-11-25 13:10:00  2018  Abu Dhabi Grand Prix  Daniel Ricciardo   \n",
       "4  2018-11-25 13:10:00  2018  Abu Dhabi Grand Prix   Valtteri Bottas   \n",
       "\n",
       "         DriverId         TeamName    TeamId  GridPosition  Position_Race  \\\n",
       "0        hamilton         Mercedes  mercedes           1.0            1.0   \n",
       "1          vettel          Ferrari   ferrari           3.0            2.0   \n",
       "2  max_verstappen  Red Bull Racing  red_bull           6.0            3.0   \n",
       "3       ricciardo  Red Bull Racing  red_bull           5.0            4.0   \n",
       "4          bottas         Mercedes  mercedes           2.0            5.0   \n",
       "\n",
       "   Podium_Finish  TotalLength  MaxQualSpeed      Time      Speed  Finished  \n",
       "0              1       290455     55.710277  5980.382  48.567968         1  \n",
       "1              1       290455     55.516426  5982.963  48.547016         1  \n",
       "2              1       290455     55.246943  5993.088  48.464998         1  \n",
       "3              0       290455     55.355814  5995.761  48.443392         1  \n",
       "4              0       290455     55.615232  6028.339  48.181597         1  "
      ]
     },
     "execution_count": 3,
     "metadata": {},
     "output_type": "execute_result"
    }
   ],
   "source": [
    "df = pd.read_csv('./data/f1_data_processed_full_imputed.csv')\n",
    "df.head(5)"
   ]
  },
  {
   "cell_type": "code",
   "execution_count": 4,
   "metadata": {},
   "outputs": [
    {
     "data": {
      "text/plain": [
       "RaceDate           0\n",
       "Year               0\n",
       "RaceName           0\n",
       "FullName           0\n",
       "DriverId           0\n",
       "TeamName           0\n",
       "TeamId             0\n",
       "GridPosition       0\n",
       "Position_Race      0\n",
       "Podium_Finish      0\n",
       "TotalLength        0\n",
       "MaxQualSpeed       0\n",
       "Time             430\n",
       "Speed            430\n",
       "Finished           0\n",
       "dtype: int64"
      ]
     },
     "execution_count": 4,
     "metadata": {},
     "output_type": "execute_result"
    }
   ],
   "source": [
    "df.isnull().sum()"
   ]
  },
  {
   "cell_type": "code",
   "execution_count": 5,
   "metadata": {},
   "outputs": [],
   "source": [
    "model_df = df.copy()"
   ]
  },
  {
   "cell_type": "code",
   "execution_count": null,
   "metadata": {},
   "outputs": [],
   "source": []
  },
  {
   "cell_type": "code",
   "execution_count": null,
   "metadata": {},
   "outputs": [],
   "source": []
  },
  {
   "cell_type": "code",
   "execution_count": null,
   "metadata": {},
   "outputs": [],
   "source": []
  },
  {
   "cell_type": "code",
   "execution_count": null,
   "metadata": {},
   "outputs": [],
   "source": []
  },
  {
   "cell_type": "code",
   "execution_count": null,
   "metadata": {},
   "outputs": [],
   "source": []
  }
 ],
 "metadata": {
  "kernelspec": {
   "display_name": "Python 3",
   "language": "python",
   "name": "python3"
  },
  "language_info": {
   "codemirror_mode": {
    "name": "ipython",
    "version": 3
   },
   "file_extension": ".py",
   "mimetype": "text/x-python",
   "name": "python",
   "nbconvert_exporter": "python",
   "pygments_lexer": "ipython3",
   "version": "3.12.4"
  }
 },
 "nbformat": 4,
 "nbformat_minor": 2
}
